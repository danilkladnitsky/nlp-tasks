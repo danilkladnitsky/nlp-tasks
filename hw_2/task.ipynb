{
 "cells": [
  {
   "cell_type": "code",
   "execution_count": 48,
   "metadata": {},
   "outputs": [
    {
     "data": {
      "text/html": [
       "<div>\n",
       "<style scoped>\n",
       "    .dataframe tbody tr th:only-of-type {\n",
       "        vertical-align: middle;\n",
       "    }\n",
       "\n",
       "    .dataframe tbody tr th {\n",
       "        vertical-align: top;\n",
       "    }\n",
       "\n",
       "    .dataframe thead th {\n",
       "        text-align: right;\n",
       "    }\n",
       "</style>\n",
       "<table border=\"1\" class=\"dataframe\">\n",
       "  <thead>\n",
       "    <tr style=\"text-align: right;\">\n",
       "      <th></th>\n",
       "      <th>email</th>\n",
       "      <th>label</th>\n",
       "    </tr>\n",
       "  </thead>\n",
       "  <tbody>\n",
       "    <tr>\n",
       "      <th>0</th>\n",
       "      <td>email</td>\n",
       "      <td>label</td>\n",
       "    </tr>\n",
       "    <tr>\n",
       "      <th>1</th>\n",
       "      <td>date wed NUMBER aug NUMBER NUMBER NUMBER NUMB...</td>\n",
       "      <td>0</td>\n",
       "    </tr>\n",
       "    <tr>\n",
       "      <th>2</th>\n",
       "      <td>martin a posted tassos papadopoulos the greek ...</td>\n",
       "      <td>0</td>\n",
       "    </tr>\n",
       "    <tr>\n",
       "      <th>3</th>\n",
       "      <td>man threatens explosion in moscow thursday aug...</td>\n",
       "      <td>0</td>\n",
       "    </tr>\n",
       "    <tr>\n",
       "      <th>4</th>\n",
       "      <td>klez the virus that won t die already the most...</td>\n",
       "      <td>0</td>\n",
       "    </tr>\n",
       "  </tbody>\n",
       "</table>\n",
       "</div>"
      ],
      "text/plain": [
       "                                               email  label\n",
       "0                                              email  label\n",
       "1   date wed NUMBER aug NUMBER NUMBER NUMBER NUMB...      0\n",
       "2  martin a posted tassos papadopoulos the greek ...      0\n",
       "3  man threatens explosion in moscow thursday aug...      0\n",
       "4  klez the virus that won t die already the most...      0"
      ]
     },
     "execution_count": 48,
     "metadata": {},
     "output_type": "execute_result"
    }
   ],
   "source": [
    "import pandas as pd\n",
    "import numpy as np\n",
    "\n",
    "from sklearn.feature_extraction.text import CountVectorizer\n",
    "from sklearn.feature_extraction.text import TfidfVectorizer\n",
    "\n",
    "from sklearn.tree import DecisionTreeClassifier\n",
    "from sklearn.linear_model import LogisticRegression\n",
    "from sklearn.naive_bayes import MultinomialNB\n",
    "\n",
    "from sklearn.model_selection import train_test_split\n",
    "\n",
    "import seaborn as sb\n",
    "\n",
    "from sklearn.metrics import accuracy_score\n",
    "\n",
    "import os\n",
    "__dirname__ = os.path.abspath(os.getcwd())\n",
    "\n",
    "df = pd.read_csv(__dirname__ + \"/dataset/archive.zip\", names=['email', 'label']).astype('U')\n",
    "\n",
    "df.head()"
   ]
  },
  {
   "cell_type": "markdown",
   "metadata": {},
   "source": [
    "## Notebook config"
   ]
  },
  {
   "cell_type": "code",
   "execution_count": 38,
   "metadata": {},
   "outputs": [],
   "source": [
    "RANDOM_STATE = 4\n",
    "TEST_SIZE = 0.2"
   ]
  },
  {
   "cell_type": "markdown",
   "metadata": {},
   "source": [
    "## Prepare dataset"
   ]
  },
  {
   "cell_type": "code",
   "execution_count": 39,
   "metadata": {},
   "outputs": [
    {
     "data": {
      "text/html": [
       "<div>\n",
       "<style scoped>\n",
       "    .dataframe tbody tr th:only-of-type {\n",
       "        vertical-align: middle;\n",
       "    }\n",
       "\n",
       "    .dataframe tbody tr th {\n",
       "        vertical-align: top;\n",
       "    }\n",
       "\n",
       "    .dataframe thead th {\n",
       "        text-align: right;\n",
       "    }\n",
       "</style>\n",
       "<table border=\"1\" class=\"dataframe\">\n",
       "  <thead>\n",
       "    <tr style=\"text-align: right;\">\n",
       "      <th></th>\n",
       "      <th>email</th>\n",
       "      <th>label</th>\n",
       "    </tr>\n",
       "  </thead>\n",
       "  <tbody>\n",
       "    <tr>\n",
       "      <th>1</th>\n",
       "      <td>date wed NUMBER aug NUMBER NUMBER NUMBER NUMB...</td>\n",
       "      <td>0</td>\n",
       "    </tr>\n",
       "    <tr>\n",
       "      <th>2</th>\n",
       "      <td>martin a posted tassos papadopoulos the greek ...</td>\n",
       "      <td>0</td>\n",
       "    </tr>\n",
       "    <tr>\n",
       "      <th>3</th>\n",
       "      <td>man threatens explosion in moscow thursday aug...</td>\n",
       "      <td>0</td>\n",
       "    </tr>\n",
       "    <tr>\n",
       "      <th>4</th>\n",
       "      <td>klez the virus that won t die already the most...</td>\n",
       "      <td>0</td>\n",
       "    </tr>\n",
       "    <tr>\n",
       "      <th>5</th>\n",
       "      <td>in adding cream to spaghetti carbonara which ...</td>\n",
       "      <td>0</td>\n",
       "    </tr>\n",
       "    <tr>\n",
       "      <th>...</th>\n",
       "      <td>...</td>\n",
       "      <td>...</td>\n",
       "    </tr>\n",
       "    <tr>\n",
       "      <th>2996</th>\n",
       "      <td>abc s good morning america ranks it the NUMBE...</td>\n",
       "      <td>1</td>\n",
       "    </tr>\n",
       "    <tr>\n",
       "      <th>2997</th>\n",
       "      <td>hyperlink hyperlink hyperlink let mortgage le...</td>\n",
       "      <td>1</td>\n",
       "    </tr>\n",
       "    <tr>\n",
       "      <th>2998</th>\n",
       "      <td>thank you for shopping with us gifts for all ...</td>\n",
       "      <td>1</td>\n",
       "    </tr>\n",
       "    <tr>\n",
       "      <th>2999</th>\n",
       "      <td>the famous ebay marketing e course learn to s...</td>\n",
       "      <td>1</td>\n",
       "    </tr>\n",
       "    <tr>\n",
       "      <th>3000</th>\n",
       "      <td>hello this is chinese traditional 子 件 NUMBER世...</td>\n",
       "      <td>1</td>\n",
       "    </tr>\n",
       "  </tbody>\n",
       "</table>\n",
       "<p>2873 rows × 2 columns</p>\n",
       "</div>"
      ],
      "text/plain": [
       "                                                  email label\n",
       "1      date wed NUMBER aug NUMBER NUMBER NUMBER NUMB...     0\n",
       "2     martin a posted tassos papadopoulos the greek ...     0\n",
       "3     man threatens explosion in moscow thursday aug...     0\n",
       "4     klez the virus that won t die already the most...     0\n",
       "5      in adding cream to spaghetti carbonara which ...     0\n",
       "...                                                 ...   ...\n",
       "2996   abc s good morning america ranks it the NUMBE...     1\n",
       "2997   hyperlink hyperlink hyperlink let mortgage le...     1\n",
       "2998   thank you for shopping with us gifts for all ...     1\n",
       "2999   the famous ebay marketing e course learn to s...     1\n",
       "3000   hello this is chinese traditional 子 件 NUMBER世...     1\n",
       "\n",
       "[2873 rows x 2 columns]"
      ]
     },
     "execution_count": 39,
     "metadata": {},
     "output_type": "execute_result"
    }
   ],
   "source": [
    "# check dublicates\n",
    "df[df.duplicated()] # has some...\n",
    "df.drop_duplicates(inplace=True)\n",
    "\n",
    "# check if dataset has nan values\n",
    "df['email'].replace('', np.nan, inplace=True)\n",
    "df.dropna(subset=['email'], inplace=True)\n",
    "df.drop(index=df.index[0], axis=0, inplace=True)\n",
    "df"
   ]
  },
  {
   "cell_type": "markdown",
   "metadata": {},
   "source": [
    "### Count dataset"
   ]
  },
  {
   "cell_type": "code",
   "execution_count": 40,
   "metadata": {},
   "outputs": [
    {
     "data": {
      "text/plain": [
       "(428, 2445)"
      ]
     },
     "execution_count": 40,
     "metadata": {},
     "output_type": "execute_result"
    }
   ],
   "source": [
    "dataset_total_count = len(df)\n",
    "\n",
    "spam_count = len(df[df.label == \"1\"])\n",
    "not_spam_count = dataset_total_count - spam_count\n",
    "spam_count, not_spam_count"
   ]
  },
  {
   "cell_type": "markdown",
   "metadata": {},
   "source": [
    "### Visualize data state"
   ]
  },
  {
   "cell_type": "code",
   "execution_count": 41,
   "metadata": {},
   "outputs": [
    {
     "data": {
      "text/plain": [
       "<Axes: xlabel='count', ylabel='label'>"
      ]
     },
     "execution_count": 41,
     "metadata": {},
     "output_type": "execute_result"
    },
    {
     "data": {
      "image/png": "[encoded data removed]",
      "text/plain": [
       "<Figure size 640x480 with 1 Axes>"
      ]
     },
     "metadata": {},
     "output_type": "display_data"
    }
   ],
   "source": [
    "sb.countplot(df.label)"
   ]
  },
  {
   "cell_type": "markdown",
   "metadata": {},
   "source": [
    "## Create helper classes"
   ]
  },
  {
   "cell_type": "code",
   "execution_count": 42,
   "metadata": {},
   "outputs": [],
   "source": [
    "class Vector():\n",
    "    vectorizeMethod = CountVectorizer()\n",
    "\n",
    "    def __init__(self, method) -> None:\n",
    "        self.vectorizeMethod = method\n",
    "\n",
    "    def fit_transform(self, data):\n",
    "        return self.vectorizeMethod.fit_transform(data).toarray()\n",
    "\n",
    "class BaseSolution:\n",
    "    predict = 0\n",
    "    test_set = list()\n",
    "    vectors = list()\n",
    "    labels = list()\n",
    "\n",
    "    def __init__(self, vectors, labels) -> None:\n",
    "        self.vectors = vectors\n",
    "        self.labels = labels\n",
    "\n",
    "    def get_accurary(self):\n",
    "        return accuracy_score(self.test_set, self.predict)\n",
    "\n",
    "    def split_train(self):\n",
    "        return train_test_split(\n",
    "            self.vectors,\n",
    "            self.labels,\n",
    "            random_state=RANDOM_STATE,\n",
    "            test_size=TEST_SIZE\n",
    "        )\n",
    "\n",
    "class FitModelIml(BaseSolution):\n",
    "    def fit():\n",
    "        pass\n",
    "    \n",
    "    def predict(test):\n",
    "        pass\n",
    "\n",
    "class NaiveBayesModel(FitModelIml):\n",
    "    def __init__(self, vectors, labels):\n",
    "        super().__init__(vectors=vectors, labels=labels)\n",
    "\n",
    "    def fit(self):\n",
    "        X_train, X_test, y_train, y_test = self.split_train()\n",
    "        self.test_set = y_test\n",
    "\n",
    "        nb = MultinomialNB().fit(X_train, y_train)\n",
    "        self.predict = nb.predict(X_test)\n",
    "\n",
    "class DecisionTreeModel(FitModelIml):\n",
    "    def __init__(self, vectors, labels):\n",
    "        super().__init__(vectors=vectors, labels=labels)\n",
    "\n",
    "    def fit(self):\n",
    "        X_train, X_test, y_train, y_test = self.split_train()\n",
    "        self.test_set = y_test\n",
    "\n",
    "        clf = DecisionTreeClassifier().fit(X_train, y_train)\n",
    "        self.predict = clf.predict(X_test)"
   ]
  },
  {
   "cell_type": "markdown",
   "metadata": {},
   "source": [
    "## NaiveBayes approach"
   ]
  },
  {
   "cell_type": "code",
   "execution_count": 43,
   "metadata": {},
   "outputs": [
    {
     "data": {
      "text/plain": [
       "(0.9930434782608696, 0.8921739130434783)"
      ]
     },
     "execution_count": 43,
     "metadata": {},
     "output_type": "execute_result"
    }
   ],
   "source": [
    "countVect = Vector(CountVectorizer())\n",
    "cv_data = countVect.fit_transform(df['email'])\n",
    "\n",
    "model = NaiveBayesModel(cv_data, df['label'])\n",
    "model.fit()\n",
    "cv_accurary = model.get_accurary()\n",
    "\n",
    "tfidVect = Vector(TfidfVectorizer(min_df=1, stop_words=\"english\", lowercase=True))\n",
    "tv_data = tfidVect.fit_transform(df['email'])\n",
    "\n",
    "model = NaiveBayesModel(tv_data, df['label'])\n",
    "model.fit()\n",
    "tv_accurary = model.get_accurary()\n",
    "\n",
    "cv_accurary, tv_accurary"
   ]
  },
  {
   "cell_type": "markdown",
   "metadata": {},
   "source": [
    "## DecisionTreeClassifier approach (slower than NaiveBayer)"
   ]
  },
  {
   "cell_type": "code",
   "execution_count": 44,
   "metadata": {},
   "outputs": [
    {
     "data": {
      "text/plain": [
       "(0.9634782608695652, 0.9391304347826087)"
      ]
     },
     "execution_count": 44,
     "metadata": {},
     "output_type": "execute_result"
    }
   ],
   "source": [
    "countVect = Vector(CountVectorizer())\n",
    "cv_data = countVect.fit_transform(df['email'])\n",
    "\n",
    "model = DecisionTreeModel(cv_data, df['label'])\n",
    "model.fit()\n",
    "cv_accurary = model.get_accurary()\n",
    "\n",
    "tfidVect = Vector(TfidfVectorizer(min_df=1, stop_words=\"english\", lowercase=True))\n",
    "tv_data = tfidVect.fit_transform(df['email'])\n",
    "\n",
    "model = DecisionTreeModel(tv_data, df['label'])\n",
    "model.fit()\n",
    "tv_accurary = model.get_accurary()\n",
    "\n",
    "cv_accurary, tv_accurary"
   ]
  },
  {
   "cell_type": "markdown",
   "metadata": {},
   "source": [
    "## LinearRegression"
   ]
  },
  {
   "cell_type": "code",
   "execution_count": 45,
   "metadata": {},
   "outputs": [
    {
     "data": {
      "text/plain": [
       "(0.9930434782608696, 0.9652173913043478)"
      ]
     },
     "execution_count": 45,
     "metadata": {},
     "output_type": "execute_result"
    }
   ],
   "source": [
    "X_train, X_test, y_train, y_test = train_test_split(\n",
    "    df['email'],\n",
    "    df['label'], \n",
    "    random_state=RANDOM_STATE,\n",
    "    test_size=TEST_SIZE\n",
    ")\n",
    "\n",
    "vectorizer = CountVectorizer(min_df=4)\n",
    "\n",
    "tf = vectorizer.fit_transform(X_train)\n",
    "tt = vectorizer.transform(X_test)\n",
    "\n",
    "logreg = LogisticRegression(max_iter=1000)\n",
    "logreg.fit(tf, y_train)\n",
    "logreg.predict(tt)\n",
    "cv_accurary = logreg.score(tt, y_test)\n",
    "\n",
    "X_train, X_test, y_train, y_test = train_test_split(\n",
    "    df['email'],\n",
    "    df['label'], \n",
    "    random_state=RANDOM_STATE,\n",
    "    test_size=TEST_SIZE\n",
    ")\n",
    "\n",
    "vectorizer = TfidfVectorizer()\n",
    "\n",
    "tf = vectorizer.fit_transform(X_train)\n",
    "tt = vectorizer.transform(X_test)\n",
    "\n",
    "logreg = LogisticRegression(max_iter=1000)\n",
    "logreg.fit(tf, y_train)\n",
    "logreg.predict(tt)\n",
    "tv_accurary = logreg.score(tt, y_test)\n",
    "\n",
    "cv_accurary, tv_accurary"
   ]
  }
 ],
 "metadata": {
  "kernelspec": {
   "display_name": "Python 3.9.6 64-bit",
   "language": "python",
   "name": "python3"
  },
  "language_info": {
   "codemirror_mode": {
    "name": "ipython",
    "version": 3
   },
   "file_extension": ".py",
   "mimetype": "text/x-python",
   "name": "python",
   "nbconvert_exporter": "python",
   "pygments_lexer": "ipython3",
   "version": "3.9.6"
  },
  "orig_nbformat": 4,
  "vscode": {
   "interpreter": {
    "hash": "31f2aee4e71d21fbe5cf8b01ff0e069b9275f58929596ceb00d14d90e3e16cd6"
   }
  }
 },
 "nbformat": 4,
 "nbformat_minor": 2
}
