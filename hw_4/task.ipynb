{
 "cells": [
  {
   "cell_type": "markdown",
   "metadata": {},
   "source": [
    "## Homework #4"
   ]
  },
  {
   "cell_type": "code",
   "execution_count": 24,
   "metadata": {},
   "outputs": [],
   "source": [
    "import os\n",
    "import sys\n",
    "import re\n",
    "\n",
    "import numpy as np\n",
    "import pandas as pd\n",
    "\n",
    "import requests\n",
    "\n",
    "import nltk\n",
    "from nltk.corpus import stopwords\n",
    "from nltk.stem.snowball import PorterStemmer\n",
    "\n",
    "import gensim\n",
    "from gensim.models.word2vec import Word2Vec\n",
    "\n",
    "from sklearn import preprocessing\n",
    "from sklearn.model_selection import train_test_split\n",
    "\n",
    "import tensorflow as tf\n",
    "\n",
    "import keras\n",
    "\n",
    "from keras.preprocessing.text import Tokenizer\n",
    "\n",
    "from keras.utils import to_categorical, pad_sequences\n",
    "\n",
    "from keras.layers import Activation, Conv2D, Embedding, Reshape, MaxPool2D, Concatenate, Flatten, Dropout, Dense, Conv1D, GlobalMaxPool1D\n",
    "from keras.layers import LSTM, Input\n",
    "from keras.layers import MaxPool1D\n",
    "\n",
    "from keras.optimizers import RMSprop\n",
    "from keras.models import Model\n",
    "from keras.callbacks import ModelCheckpoint, EarlyStopping\n",
    "from keras.optimizers import Adam\n",
    "from keras.models import Sequential"
   ]
  },
  {
   "cell_type": "markdown",
   "metadata": {},
   "source": [
    "##### Параметры"
   ]
  },
  {
   "cell_type": "code",
   "execution_count": 25,
   "metadata": {},
   "outputs": [],
   "source": [
    "RANDOM_STATE = 1234\n",
    "MAX_ROWS = 2000\n",
    "BATCH_SIZE = 128\n",
    "EPOCHS = 3\n",
    "\n",
    "DATASET_TRUE_URL = \"https://raw.githubusercontent.com/danilkladnitsky/nlp-tasks/hw_4/hw_4/true.csv\"\n",
    "DATASET_FAKE_URL = \"https://raw.githubusercontent.com/danilkladnitsky/nlp-tasks/hw_4/hw_4/fake.csv\""
   ]
  },
  {
   "cell_type": "markdown",
   "metadata": {},
   "source": [
    "##### Вспомогательные функции"
   ]
  },
  {
   "cell_type": "code",
   "execution_count": 26,
   "metadata": {},
   "outputs": [],
   "source": [
    "def download_file(url, filename):\n",
    "    already_downloaded = os.path.isfile(filename)\n",
    "\n",
    "    if (already_downloaded):\n",
    "        return True\n",
    "\n",
    "    r = requests.get(url, allow_redirects=True)\n",
    "    open(filename, 'wb').write(r.content)\n",
    "\n",
    "\n",
    "def preprocess_text_context(content):\n",
    "    sentence = re.sub('[^a-zA-Z]', ' ', content)\n",
    "\n",
    "    sentence = re.sub(r\"\\s+[a-zA-Z]\\s+\", ' ', sentence)\n",
    "\n",
    "    sentence = re.sub(r'\\s+', ' ', sentence)\n",
    "\n",
    "    stops = stopwords.words('english')\n",
    "    porter = PorterStemmer()\n",
    "    for word in sentence.split():\n",
    "        if word in stops:\n",
    "            sentence = sentence.replace(word, '')\n",
    "        sentence = sentence.replace(word, porter.stem(word))\n",
    "    return sentence.lower()"
   ]
  },
  {
   "cell_type": "markdown",
   "metadata": {},
   "source": [
    "##### Подготовка"
   ]
  },
  {
   "cell_type": "code",
   "execution_count": 27,
   "metadata": {},
   "outputs": [
    {
     "name": "stderr",
     "output_type": "stream",
     "text": [
      "[nltk_data] Downloading package stopwords to\n",
      "[nltk_data]     C:\\Users\\firem\\AppData\\Roaming\\nltk_data...\n",
      "[nltk_data]   Package stopwords is already up-to-date!\n"
     ]
    }
   ],
   "source": [
    "download_file(DATASET_TRUE_URL, 'true.csv')\n",
    "download_file(DATASET_FAKE_URL, 'fake.csv')\n",
    "nltk.download('stopwords')\n",
    "\n",
    "true_news_frame = pd.read_csv('true.csv')\n",
    "fake_news_frame = pd.read_csv('fake.csv')"
   ]
  },
  {
   "cell_type": "code",
   "execution_count": 28,
   "metadata": {},
   "outputs": [
    {
     "name": "stdout",
     "output_type": "stream",
     "text": [
      "(21417, 4)\n",
      "(23481, 4)\n"
     ]
    }
   ],
   "source": [
    "print(true_news_frame.shape)\n",
    "print(fake_news_frame.shape)"
   ]
  },
  {
   "cell_type": "code",
   "execution_count": 29,
   "metadata": {},
   "outputs": [],
   "source": [
    "fake_news_frame.reset_index(drop=True, inplace=True)\n",
    "fake_news_frame['is_fake'] = 1\n",
    "fake_news_frame.drop(columns=['subject', 'date'], inplace=True)\n",
    "fake_news_frame = fake_news_frame.head(MAX_ROWS)\n",
    "\n",
    "\n",
    "true_news_frame.reset_index(drop=True, inplace=True)\n",
    "true_news_frame['is_fake'] = 0\n",
    "true_news_frame.drop(columns=['subject', 'date'], inplace=True)\n",
    "true_news_frame = true_news_frame.head(MAX_ROWS)"
   ]
  },
  {
   "cell_type": "code",
   "execution_count": 30,
   "metadata": {},
   "outputs": [
    {
     "data": {
      "text/html": [
       "<div>\n",
       "<style scoped>\n",
       "    .dataframe tbody tr th:only-of-type {\n",
       "        vertical-align: middle;\n",
       "    }\n",
       "\n",
       "    .dataframe tbody tr th {\n",
       "        vertical-align: top;\n",
       "    }\n",
       "\n",
       "    .dataframe thead th {\n",
       "        text-align: right;\n",
       "    }\n",
       "</style>\n",
       "<table border=\"1\" class=\"dataframe\">\n",
       "  <thead>\n",
       "    <tr style=\"text-align: right;\">\n",
       "      <th></th>\n",
       "      <th>title</th>\n",
       "      <th>text</th>\n",
       "      <th>is_fake</th>\n",
       "    </tr>\n",
       "  </thead>\n",
       "  <tbody>\n",
       "    <tr>\n",
       "      <th>0</th>\n",
       "      <td>As U.S. budget fight looms, Republicans flip t...</td>\n",
       "      <td>WASHINGTON (Reuters) - The head of a conservat...</td>\n",
       "      <td>0</td>\n",
       "    </tr>\n",
       "    <tr>\n",
       "      <th>1</th>\n",
       "      <td>U.S. military to accept transgender recruits o...</td>\n",
       "      <td>WASHINGTON (Reuters) - Transgender people will...</td>\n",
       "      <td>0</td>\n",
       "    </tr>\n",
       "    <tr>\n",
       "      <th>2</th>\n",
       "      <td>Senior U.S. Republican senator: 'Let Mr. Muell...</td>\n",
       "      <td>WASHINGTON (Reuters) - The special counsel inv...</td>\n",
       "      <td>0</td>\n",
       "    </tr>\n",
       "    <tr>\n",
       "      <th>3</th>\n",
       "      <td>FBI Russia probe helped by Australian diplomat...</td>\n",
       "      <td>WASHINGTON (Reuters) - Trump campaign adviser ...</td>\n",
       "      <td>0</td>\n",
       "    </tr>\n",
       "    <tr>\n",
       "      <th>4</th>\n",
       "      <td>Trump wants Postal Service to charge 'much mor...</td>\n",
       "      <td>SEATTLE/WASHINGTON (Reuters) - President Donal...</td>\n",
       "      <td>0</td>\n",
       "    </tr>\n",
       "  </tbody>\n",
       "</table>\n",
       "</div>"
      ],
      "text/plain": [
       "                                               title  \\\n",
       "0  As U.S. budget fight looms, Republicans flip t...   \n",
       "1  U.S. military to accept transgender recruits o...   \n",
       "2  Senior U.S. Republican senator: 'Let Mr. Muell...   \n",
       "3  FBI Russia probe helped by Australian diplomat...   \n",
       "4  Trump wants Postal Service to charge 'much mor...   \n",
       "\n",
       "                                                text  is_fake  \n",
       "0  WASHINGTON (Reuters) - The head of a conservat...        0  \n",
       "1  WASHINGTON (Reuters) - Transgender people will...        0  \n",
       "2  WASHINGTON (Reuters) - The special counsel inv...        0  \n",
       "3  WASHINGTON (Reuters) - Trump campaign adviser ...        0  \n",
       "4  SEATTLE/WASHINGTON (Reuters) - President Donal...        0  "
      ]
     },
     "execution_count": 30,
     "metadata": {},
     "output_type": "execute_result"
    }
   ],
   "source": [
    "true_news_frame.head(5)"
   ]
  },
  {
   "cell_type": "code",
   "execution_count": 31,
   "metadata": {},
   "outputs": [
    {
     "data": {
      "text/html": [
       "<div>\n",
       "<style scoped>\n",
       "    .dataframe tbody tr th:only-of-type {\n",
       "        vertical-align: middle;\n",
       "    }\n",
       "\n",
       "    .dataframe tbody tr th {\n",
       "        vertical-align: top;\n",
       "    }\n",
       "\n",
       "    .dataframe thead th {\n",
       "        text-align: right;\n",
       "    }\n",
       "</style>\n",
       "<table border=\"1\" class=\"dataframe\">\n",
       "  <thead>\n",
       "    <tr style=\"text-align: right;\">\n",
       "      <th></th>\n",
       "      <th>title</th>\n",
       "      <th>text</th>\n",
       "      <th>is_fake</th>\n",
       "    </tr>\n",
       "  </thead>\n",
       "  <tbody>\n",
       "    <tr>\n",
       "      <th>0</th>\n",
       "      <td>Donald Trump Sends Out Embarrassing New Year’...</td>\n",
       "      <td>Donald Trump just couldn t wish all Americans ...</td>\n",
       "      <td>1</td>\n",
       "    </tr>\n",
       "    <tr>\n",
       "      <th>1</th>\n",
       "      <td>Drunk Bragging Trump Staffer Started Russian ...</td>\n",
       "      <td>House Intelligence Committee Chairman Devin Nu...</td>\n",
       "      <td>1</td>\n",
       "    </tr>\n",
       "    <tr>\n",
       "      <th>2</th>\n",
       "      <td>Sheriff David Clarke Becomes An Internet Joke...</td>\n",
       "      <td>On Friday, it was revealed that former Milwauk...</td>\n",
       "      <td>1</td>\n",
       "    </tr>\n",
       "    <tr>\n",
       "      <th>3</th>\n",
       "      <td>Trump Is So Obsessed He Even Has Obama’s Name...</td>\n",
       "      <td>On Christmas day, Donald Trump announced that ...</td>\n",
       "      <td>1</td>\n",
       "    </tr>\n",
       "    <tr>\n",
       "      <th>4</th>\n",
       "      <td>Pope Francis Just Called Out Donald Trump Dur...</td>\n",
       "      <td>Pope Francis used his annual Christmas Day mes...</td>\n",
       "      <td>1</td>\n",
       "    </tr>\n",
       "  </tbody>\n",
       "</table>\n",
       "</div>"
      ],
      "text/plain": [
       "                                               title  \\\n",
       "0   Donald Trump Sends Out Embarrassing New Year’...   \n",
       "1   Drunk Bragging Trump Staffer Started Russian ...   \n",
       "2   Sheriff David Clarke Becomes An Internet Joke...   \n",
       "3   Trump Is So Obsessed He Even Has Obama’s Name...   \n",
       "4   Pope Francis Just Called Out Donald Trump Dur...   \n",
       "\n",
       "                                                text  is_fake  \n",
       "0  Donald Trump just couldn t wish all Americans ...        1  \n",
       "1  House Intelligence Committee Chairman Devin Nu...        1  \n",
       "2  On Friday, it was revealed that former Milwauk...        1  \n",
       "3  On Christmas day, Donald Trump announced that ...        1  \n",
       "4  Pope Francis used his annual Christmas Day mes...        1  "
      ]
     },
     "execution_count": 31,
     "metadata": {},
     "output_type": "execute_result"
    }
   ],
   "source": [
    "fake_news_frame.head(5)"
   ]
  },
  {
   "cell_type": "markdown",
   "metadata": {},
   "source": [
    "##### Объединим данные в один фрейм"
   ]
  },
  {
   "cell_type": "code",
   "execution_count": 32,
   "metadata": {},
   "outputs": [],
   "source": [
    "news_frame = pd.concat([fake_news_frame, true_news_frame],\n",
    "                       ignore_index=True, sort=False)"
   ]
  },
  {
   "cell_type": "code",
   "execution_count": 33,
   "metadata": {},
   "outputs": [
    {
     "name": "stdout",
     "output_type": "stream",
     "text": [
      "(4000, 3)\n"
     ]
    }
   ],
   "source": [
    "print(news_frame.shape)"
   ]
  },
  {
   "cell_type": "code",
   "execution_count": 34,
   "metadata": {},
   "outputs": [
    {
     "data": {
      "text/html": [
       "<div>\n",
       "<style scoped>\n",
       "    .dataframe tbody tr th:only-of-type {\n",
       "        vertical-align: middle;\n",
       "    }\n",
       "\n",
       "    .dataframe tbody tr th {\n",
       "        vertical-align: top;\n",
       "    }\n",
       "\n",
       "    .dataframe thead th {\n",
       "        text-align: right;\n",
       "    }\n",
       "</style>\n",
       "<table border=\"1\" class=\"dataframe\">\n",
       "  <thead>\n",
       "    <tr style=\"text-align: right;\">\n",
       "      <th></th>\n",
       "      <th>title</th>\n",
       "      <th>text</th>\n",
       "      <th>is_fake</th>\n",
       "    </tr>\n",
       "  </thead>\n",
       "  <tbody>\n",
       "    <tr>\n",
       "      <th>3995</th>\n",
       "      <td>Trump rescinds Obama limits on transfer of mil...</td>\n",
       "      <td>WASHINGTON (Reuters) - U.S. President Donald T...</td>\n",
       "      <td>0</td>\n",
       "    </tr>\n",
       "    <tr>\n",
       "      <th>3996</th>\n",
       "      <td>Lawmakers should OK relief for Harvey victims:...</td>\n",
       "      <td>WASHINGTON (Reuters) - U.S. House of Represent...</td>\n",
       "      <td>0</td>\n",
       "    </tr>\n",
       "    <tr>\n",
       "      <th>3997</th>\n",
       "      <td>Energy Secretary Perry cancels Kazakhstan visi...</td>\n",
       "      <td>ALMATY (Reuters) - United States Energy Secret...</td>\n",
       "      <td>0</td>\n",
       "    </tr>\n",
       "    <tr>\n",
       "      <th>3998</th>\n",
       "      <td>Trump's firm sought Moscow real estate deal du...</td>\n",
       "      <td>WASHINGTON (Reuters) - Donald Trump’s company ...</td>\n",
       "      <td>0</td>\n",
       "    </tr>\n",
       "    <tr>\n",
       "      <th>3999</th>\n",
       "      <td>Trump renews threat to scrap NAFTA going into ...</td>\n",
       "      <td>WASHINGTON (Reuters) - U.S. President Donald T...</td>\n",
       "      <td>0</td>\n",
       "    </tr>\n",
       "  </tbody>\n",
       "</table>\n",
       "</div>"
      ],
      "text/plain": [
       "                                                  title  \\\n",
       "3995  Trump rescinds Obama limits on transfer of mil...   \n",
       "3996  Lawmakers should OK relief for Harvey victims:...   \n",
       "3997  Energy Secretary Perry cancels Kazakhstan visi...   \n",
       "3998  Trump's firm sought Moscow real estate deal du...   \n",
       "3999  Trump renews threat to scrap NAFTA going into ...   \n",
       "\n",
       "                                                   text  is_fake  \n",
       "3995  WASHINGTON (Reuters) - U.S. President Donald T...        0  \n",
       "3996  WASHINGTON (Reuters) - U.S. House of Represent...        0  \n",
       "3997  ALMATY (Reuters) - United States Energy Secret...        0  \n",
       "3998  WASHINGTON (Reuters) - Donald Trump’s company ...        0  \n",
       "3999  WASHINGTON (Reuters) - U.S. President Donald T...        0  "
      ]
     },
     "execution_count": 34,
     "metadata": {},
     "output_type": "execute_result"
    }
   ],
   "source": [
    "news_frame.tail()"
   ]
  },
  {
   "cell_type": "markdown",
   "metadata": {},
   "source": [
    "##### Подготовим текстовые данные"
   ]
  },
  {
   "cell_type": "code",
   "execution_count": 35,
   "metadata": {},
   "outputs": [
    {
     "name": "stdout",
     "output_type": "stream",
     "text": [
      "[['nld', 'trump', 'wh', 'ri', 'hppi', 'new', 'yer', 'lev', 'th', 'sted', 'give', 'sh', 'enemi', 'rs', 't', 'dhonest', 'fke', 'news', 'di', 't', 'r', 'rely', 'show', 'str', 'one', 'job', 'countri', 'rpidli', 'grow', 'stronger', 'smrter', 'wnt', 'wh', 'friend', 'support', 'enemi', 'rs', 'even', 't', 'dhonest', 'fke', 'news', 'di', 'hppi', 'lthi', 'new', 'yer', 'presid', 'ngri', 'pnt', 'tweet', 'gre', 'yer', 'ric', 'countri', 'rpidli', 'grow', 'stronger', 'smrter', 'wnt', 'wh', 'friend', 'support', 'enemi', 'rs', 'even', 't', 'dhonest', 'fke', 'news', 'di', 'hppi', 'lthi', 'new', 'yer', 'gre', 'yer', 'ric', 'nld', 'trump', 'relnldtrump', 'decemr', 'trump', 'tweet', 'went', 'wn', 'b', 'wel', 'expect', 'wh', 'kd', 'presid', 'send', 'new', 'yer', 'greet', 'like', 't', 'despic', 'petti', 'fntil', 'gibrh', 'onli', 'trump', 'hi', 'lck', 'decenc', 'even', 'ow', 're', 't', 'gutter', 'long', 'eugh', 'wh', 't', 'ri', 'cizens', 'hppi', 'new', 'yer', 'bhop', 'tlrt', 'swn', 'tlrtswn', 'decemr', 'one', 'like', 'clv', 'clvswe', 'decemr', 'y', 'impech', 'would', 'mke', 'gre', 'yer', 'ric', 'l', 'ccept', 'reg', 'control', 'congress', 'mir', 'yver', 'miryver', 'decemr', 'r', 'yself', 'tlk', 'wn', 'clud', 'th', 'mni', 'peopl', 'th', 'der', 'whi', 't', 'ty', 'ln', 'sovl', 'lnsovl', 'decemr', 'use', 't', 'word', 'rs', 'new', 'yer', 'wh', 'mrlen', 'mrlen', 'decemr', 'sy', 'hppi', 'new', 'yer', 'koren', 'pot', 'korencrpenter', 'decemr', 're', 'trump', 'new', 'yer', 'eve', 'tweet', 'hppi', 'new', 'yer', 'cludg', 'mni', 'enemi', 'fought', 'lost', 'bdli', 'ty', 'n', 'kw', 'wh', 'love', 'nld', 'trump', 'relnldtrump', 'decemr', 't', 'thg', 'new', 'trump', 'en', 'g', 't', 'yer', 'trump', 'h', 'direct', 'ssges', 'enemi', 'rs', 'new', 'yer', 'eter', 'thnksgivg', 't', 'nniversri', 'pic', 'twter', 'com', 'fpe', 'kyp', 'dniel', 'dle', 'ddle', 'decemr', 'trump', 'holidy', 'tweet', 'clerli', 't', 'presidil', 'how', 'long', 'work', 'hmrk', 'e', 'comg', 'presid', 'steven', 'goode', 'sgoode', 'decemr', 'lwy', 'en', 'like', 't', 't', 'differ', 'th', 't', 'lt', 'yer', 'filter', 'h', 'en', 'brekg', 'wn', 'roy', 'schulz', 'thbthttt', 'decemr', 'prt', 'teeng', 'use', 't', 'term', 'rs', 'wendi', 'wendiwtles', 'decemr', 'fuckg', 'yer', 'old', 'kws', 'rydy', 'decemr', 'so', 't', 'peopl', 'vote', 't', 'hole', 'thkg', 'would', 'chnge', 'got', 'power', 'wrong', 'yer', 'old', 'n', 'n', 'chnge', 'w', 'yer', 'older', 'pho', 'andrew', 'burn', 'getti', 'imges'], ['hous', 'tellig', 'commte', 'chirmn', 'dev', 'nune', 'go', 'bd', 'dy', 'sumpt', 'like', 'mni', 'us', 'chrpr', 'steel', 'dossier', 'prompt', 'russi', 'vestig', 'lh', 'deprt', 'ic', 'fbi', 'order', 'protect', 'trump', 'hppen', 'dossier', 'strt', 'vestig', 'ccordg', 'document', 'obted', 'new', 'york', 'time', 'mer', 'trump', 'cmpign', 'dver', 'georg', 'ppdopoulo', 'drunk', 'we', 'br', 'wn', 'revel', 'kledg', 'russin', 'opposi', 'reserch', 'hillri', 'cln', 'p', 'ppdopoulo', 'n', 'covfef', 'boy', 'trump', 'h', 'dmtri', 'h', 'lleg', 'much', 'lrger', 'role', 'ne', 'dmng', 'beg', 'drunken', 'fool', 'we', 'br', 'cfee', 'boy', 'd', 'lp', 'rrng', 'new', 'york', 'meetg', 'trump', 'presid', 'bdel', 'fth', 'el', 'si', 'egypt', 'two', 'mths', 'bee', 'electi', 'it', 'kn', 'bee', 'mer', 'id', 'set', 'meetgs', 'wh', 'world', 'leder', 'trump', 'tem', 'trump', 'rn', 'wh', 'beg', 'mere', 'cfee', 'boy', 'in', 'my', 'ppdopoulo', 'revel', 'ustrlin', 'diplom', 'alexer', 'downer', 'russin', 'ficils', 'shoppg', 'round', 'possibl', 'dirt', 'n', 'democric', 'presidenti', 'nomee', 'hillri', 'cln', 'exctli', 'much', 'mr', 'ppdopoulo', 'sid', 'night', 'kensgn', 'we', 'room', 'wh', 'ustrlin', 'alexer', 'downer', 'uncler', 'report', 'stes', 'but', 'two', 'mths', 'ler', 'wn', 'lek', 'democric', 'emil', 'begn', 'pperg', 'le', 'ustrlin', 'ficils', 'psed', 'mi', 'b', 'mr', 'ppdopoulo', 'ir', 'mericn', 'counterprt', 'ccordg', 'four', 'current', 'mer', 'mericn', 'eign', 'ficils', 'wh', 'direct', 'kledg', 'ustrlins', 'role', 'ppdopoulo', 'pled', 'guilti', 'lyg', 'b', 'cooperg', 'wness', 'wh', 'specil', 'counsel', 'robert', 'mueller', 'tem', 'th', 'n', 'presid', 'it', 'bdly', 'script', 'rely', 'tv', 's', 'pho', 'w', 'mcnmee', 'getti', 'imges'], ['friday', 'veal', 'r', 'milwauke', 'srf', 'david', 'clark', 'csid', 'hold', 'secury', 'sectari', 'dald', 'trump', 'admtri', 'email', 'scdal', 'juary', 'brief', 'run', 'ple', 'clark', 'd', 'fellow', 'passeng', 'd', 'black', 'ler', 'detaed', 't', 'polic', 'as', 'whev', 'except', 'mayb', 'feelgs', 'hurt', 'clark', 'ssag', 't', 'polic', 'sp', 'black', 'depled', 'd', 'w', 'search', 'warrt', 'execut', 't', 'fbi', 'see', 't', 'exchges', 'clark', 'callg', 'fake', 'news', 'even', 'though', 'copi', 't', 'search', 'warrt', 't', 'ternet', 'untimid', 'lib', 'dia', 'tempt', 'sar', 'd', 'dcd', 'wh', 'tir', 'fake', 'new', 'pt', 'design', 'silenc', 't', 'r', 'srf', 'tet', 'ctue', 'poke', 'tm', 't', 'eye', 'wh', 'sharp', 'stick', 'd', 'bch', 'slap', 'tse', 'scum', 'bag', 'til', 'ty', 'get', 'tack', 'tter', 'peopl', 'th', 'tm', 'maga', 'untimid', 'lib', 'dia', 'tempt', 'sar', 'd', 'dcd', 'wh', 'tir', 'fake', 'new', 'pt', 'design', 'silenc', 'ctue', 'poke', 'tm', 't', 'eye', 'wh', 'sharp', 'stick', 'd', 'bch', 'slap', 'tse', 'scum', 'bag', 'til', 'ty', 'get', 'tack', 'tter', 'peopl', 'th', 'tm', 'maga', 'pic', 'twter', 'com', 'xtzw', 'pdu', 'david', 'clark', 'jr', 'srfclark', 'decemb', 'he', 'sp', 'bak', 'new', 'wn', 'ly', 'lib', 'dia', 'make', 'fake', 'new', 'sar', 't', 'antidot', 'go', 'right', 'tm', 'punch', 'tm', 't', 'se', 'make', 'tast', 'blood', 'nothg', 'get', 'bulli', 'like', 'ly', 'lib', 'dia', 'tenti', 'tter', 'th', 'give', 'tm', 'tast', 'tir', 'blood', 'neverbackd', 'pic', 'twter', 'com', 'ny', 'pshcr', 'david', 'clark', 'jr', 'srfclark', 'decemb', 't', 'ternet', 'call', 't', 'local', 'newspap', 'd', 'search', 'warrt', 'n', 'fake', 'd', 't', 'chose', 't', 'file', 'charg', 't', 'ti', 'ty', 'w', 'especi', 'ctue', 'lie', 'mths', 'deci', 't', 'charg', 'clark', 'email', 'search', 'warrt', 'file', 'http', 'co', 'zcc', 'wp', 'kehleblc', 'kehleblc', 'decemb', 'hope', 't', 'st', 't', 'villag', 'peopl', 'n', 'impliced', 'kirk', 'ketchum', 'kirkketchum', 'decemb', 'slaw', 'bake', 'potaes', 'fnch', 'fri', 'pic', 'twter', 'com', 'fwfxszxy', 'alt', 'immigri', 'alt', 'usc', 'decemb', 'pic', 'twter', 'com', 'ymbljfxu', 'pendulum', 'swger', 'pendulumswngr', 'decemb', 'call', 'polic', 'friend', 'std', 'wn', 'e', 'made', 'fun', 'h', 'chr', 'jacks', 'chrcjacks', 'decemb', 'is', 'wh', 't', 'master', 'pshop', 'h', 'seem', 'never', 'ti', 'thk', 't', 'steeli', 'lv', 'e', 'vible', 'eye', 'pic', 'twter', 'com', 'dwr', 'zezv', 'chr', 'mohney', 'chrmohney', 'decemb', 'a', 'dicg', 'wh', 'fgers', 'my', 'peopl', 'die', 'jail', 'thk', 'fgers', 'sht', 'dipsh', 'ike', 'barholtz', 'ikebarholtz', 'decemb', 'rl', 'ternet', 'ugh', 'guy', 'wh', 'fake', 'flair', 'pic', 'twter', 'com', 'ulcfddhkdi', 'kellmecrazi', 'kel', 'moface', 'decemb', 'edgi', 'buddi', 'mr', 'smh', 'mrssmh', 'decemb', 'is', 'bak', 'apple', 'aar', 'feltrrr', 'decemb', 'a', 'tryg', 'earn', 'still', 'levt', 'badg', 'circusrel', 'circusdw', 'decemb', 'make', 'su', 'hyd', 'drk', 'lot', 'r', 'it', 'rud', 'prs', 'c', 'deni', 'r', 'pr', 'ficials', 'rort', 'klc', 'rortklc', 'decemb', 'terril', 'thoma', 't', 'year', 'old', 'black', 'm', 'die', 'thirst', 'clark', 'milwauke', 'counti', 'jail', 'cell', 't', 'april', 'victim', 'homicid', 'thought', 'pot', 'it', 'c', 'peed', 'eugh', 'pho', 'spencer', 'plt', 'getti', 'imag'], ['chrtma', 'ay', 'al', 'trump', 'unc', 'woul', 'back', 'wk', 't', 'foow', 'ay', 'golf', 't', 'fourth', 'ay', 'row', 't', 'mer', 'reali', 's', 'star', 'blast', 'mer', 'presi', 'barack', 'obama', 'playg', 'golf', 'trump', 'track', 'pac', 't', 'numr', 'golf', 'game', 'h', 'preecess', 'play', 'tracker', 'trump', 'appear', 'trump', 'properti', 'roun', 'golf', 'clug', 'ay', 'th', 'pace', 'pass', 'obama', 'first', 'term', 'tal', 'juli', 'next', 'year', 'http', 'co', 'fg', 'vacxrtj', 'pic', 'twter', 'com', 'gemcjqtbh', 'philip', 'bump', 'pbump', 'decemr', 'th', 'make', 'wh', 'washgn', 'post', 'rept', 'ce', 'trump', 'bs', 'reay', 'ir', 'everythg', 'th', 'amtri', 'bizarr', 'af', 't', 'cog', 'ctae', 'refer', 'obama', 'golf', 'unlik', 'obama', 'wkg', 'fix', 't', 'problem', 't', 'golf', 'cours', 'h', 't', 'cog', 'e', 'crectli', 't', 'bs', 'al', 'trump', 'spent', 'sever', 'ay', 'row', 't', 'golf', 'cours', 'coe', 'serv', 't', 'foow', 'messag', 't', 'event', 'ternal', 'servr', 'err', 'http', 'co', 'zrwpymxrcz', 'pic', 'twter', 'com', 'wiqsqnnzw', 'chrpr', 'graham', 'cgraham', 'decemr', 'th', 'snippet', 'coe', 'appear', 'a', 'http', 'co', 'khw', 'alhb', 'page', 't', 'footer', 'say', 'pai', 't', 'rnc', 'pic', 'twter', 'com', 'oazt', 'chrpr', 'graham', 'cgraham', 'decemr', 'also', 'a', 'http', 'co', 'ayblgmk', 'as', 'otrs', 'e', 'th', 'threa', 'th', 'ir', 'coe', 'clear', 'woul', 'ever', 'actuay', 'play', 'ks', 'chrpr', 'graham', 'cgraham', 'decemr', 'after', 't', 'cog', 'cae', 't', 'refer', 'obama', 'elet', 't', 'golf', 'err', 'messag', 'en', 'remov', 't', 'trump', 'gop', 'bss', 'ty', 'also', 'fix', 't', 'javascript', 'vs', 'problem', 'sti', 'clear', 'wn', 'tse', 'messags', 'woul', 'actuay', 'play', 'sce', 't', 'actual', 'presum', 'page', 'plays', 'iffer', 'messag', 'pic', 'twter', 'com', 'q', 's', 'chrpr', 'graham', 'cgraham', 'decemr', 'th', 'suggest', 'somee', 'er', 'rnc', 't', 'trump', 'am', 'sensive', 'eugh', 'trump', 'golf', 'problem', 'make', 'th', 'sue', 'go', 'away', 'quickli', 'ce', 'peopl', 'ice', 'iea', 'much', 'love', 'see', 't', 'email', 'exchge', 'le', 'us', 're', 'chrpr', 'graham', 'cgraham', 'decemr', 't', 'coe', 'cke', 't', 'st', 'part', 'th', 'ty', 'usg', 't', 'assign', 'operar', 'mes', 'b', 'coe', 'wi', 'never', 'get', 'run', 'if', 'look', 'les', 'errcoe', 'wi', 'alway', 'tw', 'trsux', 'decemr', 'trump', 'coers', 'c', 'coe', 'noboy', 'surpre', 'tim', 'peters', 'timrpeters', 'decemr', 'al', 'trump', 'obsesse', 'wh', 'obama', 'h', 'name', 'even', 't', 'cog', 'h', 'bs', 'play', 'golf', 'aga', 'pho', 'joe', 'raele', 'getti', 'imag'], ['pope', 'frci', 'use', 'nual', 'chrtma', 'day', 'messag', 'rebuk', 'dald', 'trump', 'ut', 'even', 'menti', 'name', 'pope', 'deliv', 'messag', 'day', 'memr', 'un', 'nati', 'cdemn', 'trump', 'move', 'recogn', 'jerusalem', 'cap', 'rael', 'ptiff', 'pray', 'mday', 'peac', 'coext', 'two', 'state', 'wh', 'mutual', 'agre', 'ternatiy', 'recognd', 'bder', 'we', 'see', 'jesu', 'children', 'middl', 'et', 'ctue', 'suffer', 'growg', 'tens', 'rael', 'palest', 'frci', 'said', 't', 'festiv', 'day', 'let', 'us', 'k', 'ld', 'peac', 'jerusalem', 'holi', 'l', 'let', 'us', 'pray', 'resum', 'dialogu', 'may', 'prevail', 'parti', 'negoti', 'soluti', 'fy', 'reach', 'pope', 'went', 'plead', 'accept', 'refuge', 'en', 'ced', 'ir', 'home', 'sue', 'trump', 'ctues', 'fight', 'agt', 'frci', 'use', 'jesu', 're', 'w', 'place', 'n', 'alogy', 'day', 'wds', 'war', 'blowg', 'wld', 'dat', 'model', 'develop', 'ctues', 'produc', 'hum', 'societ', 'envirmental', 'decle', 'chrtma', 'ves', 'us', 'focu', 'sign', 'child', 'recogn', 'face', 'ltl', 'children', 'especiy', 'm', 'like', 'jesu', 're', 'place', 'n', 'said', 'jesu', 'kws', 'well', 'pa', 't', 'g', 'welcom', 'hard', 't', 'place', 'lay', 'e', 'ad', 'ad', 'may', 'arts', 't', 'close', 'y', 'home', 'bethlem', 'pope', 'said', 'mari', 'joseph', 'immigrts', 'struggl', 'fd', 'safe', 'place', 'stay', 'bethlem', 'y', 'leav', 'ir', 'peopl', 'ir', 'home', 'ir', 'l', 'frci', 'said', 't', 'w', 'comtable', 'ey', 'jney', 'young', 'coupl', 'child', 'at', 'art', 'y', 'full', 'hope', 'expectati', 'child', 'bn', 'yet', 'ir', 'step', 'weigd', 'uncertaties', 'dgers', 'attend', 'leav', 'ir', 'home', 'hd', 'so', 'my', 'footstep', 'hidden', 'footstep', 'joseph', 'mari', 'frci', 'said', 'sunday', 'we', 'see', 'track', 'entir', 'famili', 'ced', 'set', 'day', 'we', 'see', 'track', 'mill', 'perss', 't', 'choos', 'go', 'away', 'driven', 'ir', 'l', 'leav', 'hd', 'ir', 'dear', 'es', 'amen', 'pho', 'chrpr', 'furlg', 'getti', 'imag']]\n"
     ]
    }
   ],
   "source": [
    "plain_news_content = []\n",
    "\n",
    "for content in news_frame.text:\n",
    "    plain_news_content.append(preprocess_text_context(content).split())\n",
    "\n",
    "print(plain_news_content[:5])"
   ]
  },
  {
   "cell_type": "code",
   "execution_count": 36,
   "metadata": {},
   "outputs": [],
   "source": [
    "w2v_model = Word2Vec(plain_news_content, sample=500,\n",
    "                     window=3, min_count=1, workers=4)"
   ]
  },
  {
   "cell_type": "code",
   "execution_count": 37,
   "metadata": {},
   "outputs": [
    {
     "name": "stdout",
     "output_type": "stream",
     "text": [
      "[[  13  201   28  126   32  749    9  744   50   85   24    1  111   12\n",
      "     7    6    1  116  520  159   16   20   50  166  974  749   26    4\n",
      "     1  448  749    9    4  358   98  440   34  729  749    2   56    1\n",
      "    48   34  642   11   24    4   13   31  374  445   13  370   93  387\n",
      "    40   63  687   98  440  838  220   37  374    5   83   13    9    4\n",
      "    98  577   22  135  132]\n",
      " [  15    7  569   28    1   17    1   12    1  362   78   35  124  288\n",
      "   416   61  133  933  810  170  590    1  281   38  589    2   46  156\n",
      "   145    2  544  462    5   94  156    5  184  170   17    3    1  716\n",
      "   937    2 1045    2    1 1210   41    5   12   83    4   17  292  441\n",
      "   504  334    9  357   24  505   37    4  554   14    9    4  774  289\n",
      "   577   22  377  135  132]]\n"
     ]
    }
   ],
   "source": [
    "token = Tokenizer(RANDOM_STATE)\n",
    "token.fit_on_texts(news_frame.text)\n",
    "text = token.texts_to_sequences(news_frame.text)\n",
    "text = pad_sequences(text, 75)\n",
    "print(text[:2])"
   ]
  },
  {
   "cell_type": "code",
   "execution_count": 38,
   "metadata": {},
   "outputs": [
    {
     "data": {
      "text/plain": [
       "array([[0., 1.],\n",
       "       [0., 1.]], dtype=float32)"
      ]
     },
     "execution_count": 38,
     "metadata": {},
     "output_type": "execute_result"
    }
   ],
   "source": [
    "le = preprocessing.LabelEncoder()\n",
    "y = le.fit_transform(news_frame.is_fake)\n",
    "y = to_categorical(y)\n",
    "y[:2]"
   ]
  },
  {
   "cell_type": "markdown",
   "metadata": {},
   "source": [
    "#### Реализовать классификацию двумя моделями: CNN, LSTM\n"
   ]
  },
  {
   "cell_type": "markdown",
   "metadata": {},
   "source": [
    "## CNN"
   ]
  },
  {
   "cell_type": "code",
   "execution_count": 39,
   "metadata": {},
   "outputs": [],
   "source": [
    "x_train, x_test, y_train, y_test = train_test_split(\n",
    "    np.array(text), y, test_size=0.2, stratify=y\n",
    ")"
   ]
  },
  {
   "cell_type": "markdown",
   "metadata": {},
   "source": [
    "##### get_keras_embedding analog"
   ]
  },
  {
   "cell_type": "code",
   "execution_count": 40,
   "metadata": {},
   "outputs": [],
   "source": [
    "def gensim_to_keras_embedding(model, train_embeddings=False):\n",
    "    keyed_vectors = model.wv\n",
    "    weights = keyed_vectors.vectors\n",
    "\n",
    "    index_to_key = keyed_vectors.index_to_key\n",
    "\n",
    "    layer = Embedding(\n",
    "        input_dim=weights.shape[0],\n",
    "        output_dim=weights.shape[1],\n",
    "        weights=[weights],\n",
    "        trainable=train_embeddings,\n",
    "    )\n",
    "    return layer"
   ]
  },
  {
   "cell_type": "code",
   "execution_count": 41,
   "metadata": {},
   "outputs": [],
   "source": [
    "keras_model = Sequential()\n",
    "\n",
    "keras_model.add(gensim_to_keras_embedding(w2v_model))\n",
    "\n",
    "keras_model.add(Dropout(0.2))\n",
    "\n",
    "keras_model.add(Conv1D(50, 3, activation='relu', padding='same', strides=1))\n",
    "keras_model.add(Conv1D(50, 3, activation='relu', padding='same', strides=1))\n",
    "\n",
    "keras_model.add(MaxPool1D())\n",
    "\n",
    "keras_model.add(Dropout(0.2))\n",
    "\n",
    "keras_model.add(Conv1D(100, 3, activation='relu', padding='same', strides=1))\n",
    "keras_model.add(Conv1D(100, 3, activation='relu', padding='same', strides=1))\n",
    "\n",
    "keras_model.add(MaxPool1D())\n",
    "\n",
    "keras_model.add(Dropout(0.2))\n",
    "\n",
    "keras_model.add(Conv1D(200, 3, activation='relu', padding='same', strides=1))\n",
    "keras_model.add(Conv1D(200, 3, activation='relu', padding='same', strides=1))\n",
    "\n",
    "keras_model.add(GlobalMaxPool1D())\n",
    "\n",
    "keras_model.add(Dropout(0.2))\n",
    "\n",
    "keras_model.add(Dense(200))\n",
    "\n",
    "keras_model.add(Activation('relu'))\n",
    "\n",
    "keras_model.add(Dropout(0.2))\n",
    "\n",
    "keras_model.add(Dense(2))\n",
    "\n",
    "keras_model.add(Activation('softmax'))\n",
    "\n",
    "keras_model.compile(loss='binary_crossentropy',\n",
    "                    metrics=['acc'], optimizer='adam')"
   ]
  },
  {
   "cell_type": "code",
   "execution_count": 42,
   "metadata": {},
   "outputs": [
    {
     "name": "stdout",
     "output_type": "stream",
     "text": [
      "Epoch 1/3\n"
     ]
    },
    {
     "name": "stderr",
     "output_type": "stream",
     "text": [
      "c:\\ITMO\\MasterDegree\\nlp-tasks\\.venv\\lib\\site-packages\\tensorflow\\python\\data\\ops\\structured_function.py:254: UserWarning: Even though the `tf.config.experimental_run_functions_eagerly` option is set, this option does not apply to tf.data functions. To force eager execution of tf.data functions, please use `tf.data.experimental.enable_debug_mode()`.\n",
      "  warnings.warn(\n"
     ]
    },
    {
     "name": "stdout",
     "output_type": "stream",
     "text": [
      "25/25 [==============================] - 11s 423ms/step - loss: 0.6487 - acc: 0.5928 - val_loss: 0.5179 - val_acc: 0.7425\n",
      "Epoch 2/3\n",
      "25/25 [==============================] - 9s 371ms/step - loss: 0.4336 - acc: 0.8009 - val_loss: 0.2552 - val_acc: 0.9087\n",
      "Epoch 3/3\n",
      "25/25 [==============================] - 9s 377ms/step - loss: 0.2362 - acc: 0.9016 - val_loss: 0.1571 - val_acc: 0.9388\n",
      "CPU times: total: 1min 23s\n",
      "Wall time: 29.5 s\n"
     ]
    },
    {
     "data": {
      "text/plain": [
       "<keras.callbacks.History at 0x20c1b1b5430>"
      ]
     },
     "execution_count": 42,
     "metadata": {},
     "output_type": "execute_result"
    }
   ],
   "source": [
    "%%time\n",
    "\n",
    "keras_model.fit(x_train, y_train, batch_size=BATCH_SIZE, epochs=EPOCHS,\n",
    "                validation_data=(x_test, y_test))"
   ]
  },
  {
   "cell_type": "markdown",
   "metadata": {},
   "source": [
    "## LSTM"
   ]
  },
  {
   "cell_type": "code",
   "execution_count": 43,
   "metadata": {},
   "outputs": [],
   "source": [
    "LSTM_VALUE = 64\n",
    "DENSITY = 256\n",
    "DROPOUT_COEFFICIENT = 0.5\n",
    "DENSITY = 1\n",
    "INPUT_MAX_LEN = 75\n",
    "\n",
    "\n",
    "def create_lstm_model():\n",
    "    inputs = Input(name='inputs', shape=[INPUT_MAX_LEN])\n",
    "    layer = gensim_to_keras_embedding(w2v_model)(inputs)\n",
    "    layer = LSTM(LSTM_VALUE)(layer)\n",
    "    layer = Dense(DENSITY, name='FC1')(layer)\n",
    "    layer = Activation('relu')(layer)\n",
    "    layer = Dropout(DROPOUT_COEFFICIENT)(layer)\n",
    "    layer = Dense(DENSITY, name='out_layer')(layer)\n",
    "    layer = Activation('sigmoid')(layer)\n",
    "    model = Model(inputs=inputs, outputs=layer)\n",
    "    return model"
   ]
  },
  {
   "cell_type": "code",
   "execution_count": 44,
   "metadata": {},
   "outputs": [
    {
     "name": "stdout",
     "output_type": "stream",
     "text": [
      "Model: \"model_1\"\n",
      "_________________________________________________________________\n",
      " Layer (type)                Output Shape              Param #   \n",
      "=================================================================\n",
      " inputs (InputLayer)         [(None, 75)]              0         \n",
      "                                                                 \n",
      " embedding_3 (Embedding)     (None, 75, 100)           4813800   \n",
      "                                                                 \n",
      " lstm_1 (LSTM)               (None, 64)                42240     \n",
      "                                                                 \n",
      " FC1 (Dense)                 (None, 1)                 65        \n",
      "                                                                 \n",
      " activation_6 (Activation)   (None, 1)                 0         \n",
      "                                                                 \n",
      " dropout_11 (Dropout)        (None, 1)                 0         \n",
      "                                                                 \n",
      " out_layer (Dense)           (None, 1)                 2         \n",
      "                                                                 \n",
      " activation_7 (Activation)   (None, 1)                 0         \n",
      "                                                                 \n",
      "=================================================================\n",
      "Total params: 4,856,107\n",
      "Trainable params: 42,307\n",
      "Non-trainable params: 4,813,800\n",
      "_________________________________________________________________\n"
     ]
    }
   ],
   "source": [
    "model = create_lstm_model()\n",
    "model.summary()\n",
    "model.compile(loss='binary_crossentropy',\n",
    "              optimizer=RMSprop(), metrics=['accuracy'])"
   ]
  },
  {
   "cell_type": "code",
   "execution_count": 45,
   "metadata": {},
   "outputs": [],
   "source": [
    "X = text\n",
    "Y = news_frame['is_fake']\n",
    "\n",
    "le = preprocessing.LabelEncoder()\n",
    "Y = le.fit_transform(Y)\n",
    "Y = Y.reshape(-1, 1)"
   ]
  },
  {
   "cell_type": "code",
   "execution_count": 46,
   "metadata": {},
   "outputs": [],
   "source": [
    "X_train, X_test, Y_train, Y_test = train_test_split(X, Y, test_size=0.2)"
   ]
  },
  {
   "cell_type": "code",
   "execution_count": 47,
   "metadata": {},
   "outputs": [
    {
     "name": "stdout",
     "output_type": "stream",
     "text": [
      "Epoch 1/3\n"
     ]
    },
    {
     "name": "stderr",
     "output_type": "stream",
     "text": [
      "c:\\ITMO\\MasterDegree\\nlp-tasks\\.venv\\lib\\site-packages\\tensorflow\\python\\data\\ops\\structured_function.py:254: UserWarning: Even though the `tf.config.experimental_run_functions_eagerly` option is set, this option does not apply to tf.data functions. To force eager execution of tf.data functions, please use `tf.data.experimental.enable_debug_mode()`.\n",
      "  warnings.warn(\n"
     ]
    },
    {
     "name": "stdout",
     "output_type": "stream",
     "text": [
      "20/20 [==============================] - 14s 714ms/step - loss: 0.6934 - accuracy: 0.4938 - val_loss: 0.6932 - val_accuracy: 0.4828\n",
      "Epoch 2/3\n",
      "20/20 [==============================] - 14s 707ms/step - loss: 0.6931 - accuracy: 0.5082 - val_loss: 0.6933 - val_accuracy: 0.4828\n",
      "CPU times: total: 38.5 s\n",
      "Wall time: 28.5 s\n"
     ]
    },
    {
     "data": {
      "text/plain": [
       "<keras.callbacks.History at 0x20c1a900130>"
      ]
     },
     "execution_count": 47,
     "metadata": {},
     "output_type": "execute_result"
    }
   ],
   "source": [
    "%%time\n",
    "tf.config.run_functions_eagerly(True)\n",
    "\n",
    "model.fit(X_train, Y_train, batch_size=BATCH_SIZE, epochs=EPOCHS,\n",
    "          validation_split=0.2, callbacks=[EarlyStopping(monitor='val_loss', min_delta=0.0001)])"
   ]
  },
  {
   "cell_type": "code",
   "execution_count": 48,
   "metadata": {},
   "outputs": [
    {
     "name": "stdout",
     "output_type": "stream",
     "text": [
      "25/25 [==============================] - 6s 228ms/step - loss: 0.6933 - accuracy: 0.4875\n"
     ]
    },
    {
     "data": {
      "text/plain": [
       "[0.693257212638855, 0.48750001192092896]"
      ]
     },
     "execution_count": 48,
     "metadata": {},
     "output_type": "execute_result"
    }
   ],
   "source": [
    "accuracy = model.evaluate(X_test, Y_test)\n",
    "\n",
    "accuracy"
   ]
  },
  {
   "cell_type": "markdown",
   "metadata": {},
   "source": [
    "#### Сравнить качество обученных моделей"
   ]
  },
  {
   "cell_type": "markdown",
   "metadata": {},
   "source": [
    "Запуск LSTM и RNN моделей показал, что для RNN достаточно относительно небольшего количества эпох (3-5) для обучения. \n",
    "LSTM же для большей точности требует ~8-10."
   ]
  },
  {
   "cell_type": "code",
   "execution_count": 50,
   "metadata": {},
   "outputs": [
    {
     "name": "stdout",
     "output_type": "stream",
     "text": [
      "Epoch 1/10\n",
      "20/20 [==============================] - ETA: 0s - loss: 0.6931 - accuracy: 0.5082"
     ]
    }
   ],
   "source": [
    "model.fit(X_train, Y_train, batch_size=BATCH_SIZE, epochs=10,\n",
    "          validation_split=0.2, callbacks=[EarlyStopping(monitor='val_loss', min_delta=0.0001)])\n",
    "\n",
    "accuracy = model.evaluate(X_test, Y_test)\n",
    "accuracy"
   ]
  }
 ],
 "metadata": {
  "kernelspec": {
   "display_name": ".venv",
   "language": "python",
   "name": "python3"
  },
  "language_info": {
   "codemirror_mode": {
    "name": "ipython",
    "version": 3
   },
   "file_extension": ".py",
   "mimetype": "text/x-python",
   "name": "python",
   "nbconvert_exporter": "python",
   "pygments_lexer": "ipython3",
   "version": "3.9.12"
  }
 },
 "nbformat": 4,
 "nbformat_minor": 2
}
