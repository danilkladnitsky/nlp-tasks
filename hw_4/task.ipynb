{
 "cells": [
  {
   "cell_type": "markdown",
   "metadata": {},
   "source": [
    "## Homework #4"
   ]
  },
  {
   "cell_type": "code",
   "execution_count": 1,
   "metadata": {},
   "outputs": [
    {
     "name": "stdout",
     "output_type": "stream",
     "text": [
      "Requirement already satisfied: keras==2.12.0 in c:\\itmo\\masterdegree\\nlp-tasks\\.venv\\lib\\site-packages (from -r requirements.txt (line 1)) (2.12.0)\n",
      "Requirement already satisfied: tensorflow==2.12.0 in c:\\itmo\\masterdegree\\nlp-tasks\\.venv\\lib\\site-packages (from -r requirements.txt (line 2)) (2.12.0)\n",
      "Requirement already satisfied: requests==2.31.0 in c:\\itmo\\masterdegree\\nlp-tasks\\.venv\\lib\\site-packages (from -r requirements.txt (line 3)) (2.31.0)\n",
      "Requirement already satisfied: tensorflow-intel==2.12.0 in c:\\itmo\\masterdegree\\nlp-tasks\\.venv\\lib\\site-packages (from tensorflow==2.12.0->-r requirements.txt (line 2)) (2.12.0)\n",
      "Requirement already satisfied: charset-normalizer<4,>=2 in c:\\itmo\\masterdegree\\nlp-tasks\\.venv\\lib\\site-packages (from requests==2.31.0->-r requirements.txt (line 3)) (3.3.2)\n",
      "Requirement already satisfied: idna<4,>=2.5 in c:\\itmo\\masterdegree\\nlp-tasks\\.venv\\lib\\site-packages (from requests==2.31.0->-r requirements.txt (line 3)) (3.4)\n",
      "Requirement already satisfied: urllib3<3,>=1.21.1 in c:\\itmo\\masterdegree\\nlp-tasks\\.venv\\lib\\site-packages (from requests==2.31.0->-r requirements.txt (line 3)) (2.0.7)\n",
      "Requirement already satisfied: certifi>=2017.4.17 in c:\\itmo\\masterdegree\\nlp-tasks\\.venv\\lib\\site-packages (from requests==2.31.0->-r requirements.txt (line 3)) (2023.7.22)\n",
      "Requirement already satisfied: absl-py>=1.0.0 in c:\\itmo\\masterdegree\\nlp-tasks\\.venv\\lib\\site-packages (from tensorflow-intel==2.12.0->tensorflow==2.12.0->-r requirements.txt (line 2)) (2.0.0)\n",
      "Requirement already satisfied: astunparse>=1.6.0 in c:\\itmo\\masterdegree\\nlp-tasks\\.venv\\lib\\site-packages (from tensorflow-intel==2.12.0->tensorflow==2.12.0->-r requirements.txt (line 2)) (1.6.3)\n",
      "Requirement already satisfied: flatbuffers>=2.0 in c:\\itmo\\masterdegree\\nlp-tasks\\.venv\\lib\\site-packages (from tensorflow-intel==2.12.0->tensorflow==2.12.0->-r requirements.txt (line 2)) (23.5.26)\n",
      "Requirement already satisfied: gast<=0.4.0,>=0.2.1 in c:\\itmo\\masterdegree\\nlp-tasks\\.venv\\lib\\site-packages (from tensorflow-intel==2.12.0->tensorflow==2.12.0->-r requirements.txt (line 2)) (0.4.0)\n",
      "Requirement already satisfied: google-pasta>=0.1.1 in c:\\itmo\\masterdegree\\nlp-tasks\\.venv\\lib\\site-packages (from tensorflow-intel==2.12.0->tensorflow==2.12.0->-r requirements.txt (line 2)) (0.2.0)\n",
      "Requirement already satisfied: h5py>=2.9.0 in c:\\itmo\\masterdegree\\nlp-tasks\\.venv\\lib\\site-packages (from tensorflow-intel==2.12.0->tensorflow==2.12.0->-r requirements.txt (line 2)) (3.10.0)\n",
      "Requirement already satisfied: jax>=0.3.15 in c:\\itmo\\masterdegree\\nlp-tasks\\.venv\\lib\\site-packages (from tensorflow-intel==2.12.0->tensorflow==2.12.0->-r requirements.txt (line 2)) (0.4.19)\n",
      "Requirement already satisfied: libclang>=13.0.0 in c:\\itmo\\masterdegree\\nlp-tasks\\.venv\\lib\\site-packages (from tensorflow-intel==2.12.0->tensorflow==2.12.0->-r requirements.txt (line 2)) (16.0.6)\n",
      "Requirement already satisfied: numpy<1.24,>=1.22 in c:\\itmo\\masterdegree\\nlp-tasks\\.venv\\lib\\site-packages (from tensorflow-intel==2.12.0->tensorflow==2.12.0->-r requirements.txt (line 2)) (1.23.5)\n",
      "Requirement already satisfied: opt-einsum>=2.3.2 in c:\\itmo\\masterdegree\\nlp-tasks\\.venv\\lib\\site-packages (from tensorflow-intel==2.12.0->tensorflow==2.12.0->-r requirements.txt (line 2)) (3.3.0)\n",
      "Requirement already satisfied: packaging in c:\\itmo\\masterdegree\\nlp-tasks\\.venv\\lib\\site-packages (from tensorflow-intel==2.12.0->tensorflow==2.12.0->-r requirements.txt (line 2)) (23.2)\n",
      "Requirement already satisfied: protobuf!=4.21.0,!=4.21.1,!=4.21.2,!=4.21.3,!=4.21.4,!=4.21.5,<5.0.0dev,>=3.20.3 in c:\\itmo\\masterdegree\\nlp-tasks\\.venv\\lib\\site-packages (from tensorflow-intel==2.12.0->tensorflow==2.12.0->-r requirements.txt (line 2)) (4.25.0)\n",
      "Requirement already satisfied: setuptools in c:\\itmo\\masterdegree\\nlp-tasks\\.venv\\lib\\site-packages (from tensorflow-intel==2.12.0->tensorflow==2.12.0->-r requirements.txt (line 2)) (58.1.0)\n",
      "Requirement already satisfied: six>=1.12.0 in c:\\itmo\\masterdegree\\nlp-tasks\\.venv\\lib\\site-packages (from tensorflow-intel==2.12.0->tensorflow==2.12.0->-r requirements.txt (line 2)) (1.16.0)\n",
      "Requirement already satisfied: termcolor>=1.1.0 in c:\\itmo\\masterdegree\\nlp-tasks\\.venv\\lib\\site-packages (from tensorflow-intel==2.12.0->tensorflow==2.12.0->-r requirements.txt (line 2)) (2.3.0)\n",
      "Requirement already satisfied: typing-extensions>=3.6.6 in c:\\itmo\\masterdegree\\nlp-tasks\\.venv\\lib\\site-packages (from tensorflow-intel==2.12.0->tensorflow==2.12.0->-r requirements.txt (line 2)) (4.8.0)\n",
      "Requirement already satisfied: wrapt<1.15,>=1.11.0 in c:\\itmo\\masterdegree\\nlp-tasks\\.venv\\lib\\site-packages (from tensorflow-intel==2.12.0->tensorflow==2.12.0->-r requirements.txt (line 2)) (1.14.1)\n",
      "Requirement already satisfied: grpcio<2.0,>=1.24.3 in c:\\itmo\\masterdegree\\nlp-tasks\\.venv\\lib\\site-packages (from tensorflow-intel==2.12.0->tensorflow==2.12.0->-r requirements.txt (line 2)) (1.59.2)\n",
      "Requirement already satisfied: tensorboard<2.13,>=2.12 in c:\\itmo\\masterdegree\\nlp-tasks\\.venv\\lib\\site-packages (from tensorflow-intel==2.12.0->tensorflow==2.12.0->-r requirements.txt (line 2)) (2.12.3)\n",
      "Requirement already satisfied: tensorflow-estimator<2.13,>=2.12.0 in c:\\itmo\\masterdegree\\nlp-tasks\\.venv\\lib\\site-packages (from tensorflow-intel==2.12.0->tensorflow==2.12.0->-r requirements.txt (line 2)) (2.12.0)\n",
      "Requirement already satisfied: tensorflow-io-gcs-filesystem>=0.23.1 in c:\\itmo\\masterdegree\\nlp-tasks\\.venv\\lib\\site-packages (from tensorflow-intel==2.12.0->tensorflow==2.12.0->-r requirements.txt (line 2)) (0.31.0)\n",
      "Requirement already satisfied: wheel<1.0,>=0.23.0 in c:\\itmo\\masterdegree\\nlp-tasks\\.venv\\lib\\site-packages (from astunparse>=1.6.0->tensorflow-intel==2.12.0->tensorflow==2.12.0->-r requirements.txt (line 2)) (0.41.3)\n",
      "Requirement already satisfied: ml-dtypes>=0.2.0 in c:\\itmo\\masterdegree\\nlp-tasks\\.venv\\lib\\site-packages (from jax>=0.3.15->tensorflow-intel==2.12.0->tensorflow==2.12.0->-r requirements.txt (line 2)) (0.3.1)\n",
      "Requirement already satisfied: scipy>=1.9 in c:\\itmo\\masterdegree\\nlp-tasks\\.venv\\lib\\site-packages (from jax>=0.3.15->tensorflow-intel==2.12.0->tensorflow==2.12.0->-r requirements.txt (line 2)) (1.11.3)\n",
      "Requirement already satisfied: importlib-metadata>=4.6 in c:\\itmo\\masterdegree\\nlp-tasks\\.venv\\lib\\site-packages (from jax>=0.3.15->tensorflow-intel==2.12.0->tensorflow==2.12.0->-r requirements.txt (line 2)) (6.8.0)\n",
      "Requirement already satisfied: google-auth<3,>=1.6.3 in c:\\itmo\\masterdegree\\nlp-tasks\\.venv\\lib\\site-packages (from tensorboard<2.13,>=2.12->tensorflow-intel==2.12.0->tensorflow==2.12.0->-r requirements.txt (line 2)) (2.23.4)\n",
      "Requirement already satisfied: google-auth-oauthlib<1.1,>=0.5 in c:\\itmo\\masterdegree\\nlp-tasks\\.venv\\lib\\site-packages (from tensorboard<2.13,>=2.12->tensorflow-intel==2.12.0->tensorflow==2.12.0->-r requirements.txt (line 2)) (1.0.0)\n",
      "Requirement already satisfied: markdown>=2.6.8 in c:\\itmo\\masterdegree\\nlp-tasks\\.venv\\lib\\site-packages (from tensorboard<2.13,>=2.12->tensorflow-intel==2.12.0->tensorflow==2.12.0->-r requirements.txt (line 2)) (3.5.1)\n",
      "Requirement already satisfied: tensorboard-data-server<0.8.0,>=0.7.0 in c:\\itmo\\masterdegree\\nlp-tasks\\.venv\\lib\\site-packages (from tensorboard<2.13,>=2.12->tensorflow-intel==2.12.0->tensorflow==2.12.0->-r requirements.txt (line 2)) (0.7.2)\n",
      "Requirement already satisfied: werkzeug>=1.0.1 in c:\\itmo\\masterdegree\\nlp-tasks\\.venv\\lib\\site-packages (from tensorboard<2.13,>=2.12->tensorflow-intel==2.12.0->tensorflow==2.12.0->-r requirements.txt (line 2)) (3.0.1)\n",
      "Requirement already satisfied: cachetools<6.0,>=2.0.0 in c:\\itmo\\masterdegree\\nlp-tasks\\.venv\\lib\\site-packages (from google-auth<3,>=1.6.3->tensorboard<2.13,>=2.12->tensorflow-intel==2.12.0->tensorflow==2.12.0->-r requirements.txt (line 2)) (5.3.2)\n",
      "Requirement already satisfied: pyasn1-modules>=0.2.1 in c:\\itmo\\masterdegree\\nlp-tasks\\.venv\\lib\\site-packages (from google-auth<3,>=1.6.3->tensorboard<2.13,>=2.12->tensorflow-intel==2.12.0->tensorflow==2.12.0->-r requirements.txt (line 2)) (0.3.0)\n",
      "Requirement already satisfied: rsa<5,>=3.1.4 in c:\\itmo\\masterdegree\\nlp-tasks\\.venv\\lib\\site-packages (from google-auth<3,>=1.6.3->tensorboard<2.13,>=2.12->tensorflow-intel==2.12.0->tensorflow==2.12.0->-r requirements.txt (line 2)) (4.9)\n",
      "Requirement already satisfied: requests-oauthlib>=0.7.0 in c:\\itmo\\masterdegree\\nlp-tasks\\.venv\\lib\\site-packages (from google-auth-oauthlib<1.1,>=0.5->tensorboard<2.13,>=2.12->tensorflow-intel==2.12.0->tensorflow==2.12.0->-r requirements.txt (line 2)) (1.3.1)\n",
      "Requirement already satisfied: zipp>=0.5 in c:\\itmo\\masterdegree\\nlp-tasks\\.venv\\lib\\site-packages (from importlib-metadata>=4.6->jax>=0.3.15->tensorflow-intel==2.12.0->tensorflow==2.12.0->-r requirements.txt (line 2)) (3.17.0)\n",
      "Requirement already satisfied: MarkupSafe>=2.1.1 in c:\\itmo\\masterdegree\\nlp-tasks\\.venv\\lib\\site-packages (from werkzeug>=1.0.1->tensorboard<2.13,>=2.12->tensorflow-intel==2.12.0->tensorflow==2.12.0->-r requirements.txt (line 2)) (2.1.3)\n",
      "Requirement already satisfied: pyasn1<0.6.0,>=0.4.6 in c:\\itmo\\masterdegree\\nlp-tasks\\.venv\\lib\\site-packages (from pyasn1-modules>=0.2.1->google-auth<3,>=1.6.3->tensorboard<2.13,>=2.12->tensorflow-intel==2.12.0->tensorflow==2.12.0->-r requirements.txt (line 2)) (0.5.0)\n",
      "Requirement already satisfied: oauthlib>=3.0.0 in c:\\itmo\\masterdegree\\nlp-tasks\\.venv\\lib\\site-packages (from requests-oauthlib>=0.7.0->google-auth-oauthlib<1.1,>=0.5->tensorboard<2.13,>=2.12->tensorflow-intel==2.12.0->tensorflow==2.12.0->-r requirements.txt (line 2)) (3.2.2)\n"
     ]
    }
   ],
   "source": [
    "!pip install -r requirements.txt"
   ]
  },
  {
   "cell_type": "code",
   "execution_count": 4,
   "metadata": {},
   "outputs": [],
   "source": [
    "import os\n",
    "import sys\n",
    "import numpy as np\n",
    "import keras\n",
    "from keras.preprocessing.text import Tokenizer\n",
    "from keras.utils import to_categorical, pad_sequences\n",
    "from keras.layers import Activation, Conv2D, Input, Embedding, Reshape, MaxPool2D, Concatenate, Flatten, Dropout, Dense, Conv1D\n",
    "from keras.layers import MaxPool1D\n",
    "from keras.models import Model\n",
    "from keras.callbacks import ModelCheckpoint\n",
    "from keras.optimizers import Adam\n",
    "\n",
    "import requests"
   ]
  },
  {
   "cell_type": "markdown",
   "metadata": {},
   "source": [
    "##### Параметры"
   ]
  },
  {
   "cell_type": "code",
   "execution_count": null,
   "metadata": {},
   "outputs": [],
   "source": [
    "RANDOM_STATE=1234\n",
    "DATASET_URL="
   ]
  },
  {
   "cell_type": "markdown",
   "metadata": {},
   "source": [
    "##### Вспомогательные функции"
   ]
  },
  {
   "cell_type": "code",
   "execution_count": 5,
   "metadata": {},
   "outputs": [],
   "source": [
    "def download_file(url, filename):\n",
    "    r = requests.get(url, allow_redirects=True)\n",
    "    open(filename, 'wb').write(r.content)"
   ]
  },
  {
   "cell_type": "markdown",
   "metadata": {},
   "source": [
    "#### Реализовать классификацию двумя моделями: CNN, LSTM\n"
   ]
  },
  {
   "cell_type": "markdown",
   "metadata": {},
   "source": [
    "#### Сравнить качество обученных моделей"
   ]
  }
 ],
 "metadata": {
  "kernelspec": {
   "display_name": ".venv",
   "language": "python",
   "name": "python3"
  },
  "language_info": {
   "codemirror_mode": {
    "name": "ipython",
    "version": 3
   },
   "file_extension": ".py",
   "mimetype": "text/x-python",
   "name": "python",
   "nbconvert_exporter": "python",
   "pygments_lexer": "ipython3",
   "version": "3.9.12"
  }
 },
 "nbformat": 4,
 "nbformat_minor": 2
}
